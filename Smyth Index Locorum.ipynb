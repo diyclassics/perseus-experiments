{
 "cells": [
  {
   "cell_type": "markdown",
   "metadata": {},
   "source": [
    "# Making an *index locorum* from the Perseus edition of Smyth\n",
    "\n",
    "Patrick J. Burns 1.10.20 (updated 1.11.20)"
   ]
  },
  {
   "cell_type": "markdown",
   "metadata": {},
   "source": [
    "Here is an xml parsing project that came out of a discussion on the 'gltreebank' listserv. There was a request for \"an Index Locorum to Smyth's 'Greek Grammar'\" and one was identified quickly—W.A. Schumann's 1961 \"Index of passages cited in Herbert Weir Smyth, Greek grammar.\" (GRBS Scholarly Aids 1). [Here](https://catalog.hathitrust.org/Record/001811341) is a link to the item—with full text—in HathiTrust. I often use the Perseus Digital Library edition of [Smyth](http://www.perseus.tufts.edu/hopper/text?doc=Perseus%3Atext%3A1999.04.0007%3Asmythp%3D1) and remembered that citations in this text are linked to their Perseus sources. With this is mind, I decided to recompile something like Schumann's index by parsing the Perseus xml. The code is in the notebook below and a csv with results can be found [here](https://github.com/diyclassics/perseus-experiments/blob/master/data/smyth_citations.csv).\n",
    "\n",
    "The workflow is as follows: 1. compile a list of Smyth xml docs from the Perseus TOC (provided in the left column of the Smyth html); 2. parse the docs in the TOC for ```<bibl>``` elements, i.e. the element used for the ciations, and where applicable annotations for ```<author>``` and ```<title>```; 3. put this data into more user-friendly formats, e.g. Pandas DataFrame and .csv. The result is compilation of passages per Smyth chapter. This can be sorted and reidex to more closely approximate Schumann's index (cf. the ```df_auth``` DataFrame and corresponding .csv file).\n",
    "\n",
    "Note a little data cleanup trick here—the encoding for Homeric references in this edition 1. does not include the author, and 2. refers to the books by their Greek letter indices, e.g. 'Α' for Iliad 1 and 'α' for Odyssey 1. These are corrected both in the parser and with some helper functions below. Similar corrections will need to be made for the CIA and IGA references as well at some point."
   ]
  },
  {
   "cell_type": "code",
   "execution_count": 1,
   "metadata": {},
   "outputs": [],
   "source": [
    "# Imports\n",
    "import urllib.request\n",
    "from lxml import etree\n",
    "\n",
    "from collections import defaultdict\n",
    "import natsort as ns\n",
    "\n",
    "import pandas as pd\n",
    "\n",
    "import time\n",
    "\n",
    "import pickle\n",
    "from pprint import pprint"
   ]
  },
  {
   "cell_type": "code",
   "execution_count": 2,
   "metadata": {},
   "outputs": [],
   "source": [
    "# Constants\n",
    "perseus_xml_base_url = \"http://www.perseus.tufts.edu/hopper/xmlchunk?doc=\"\n",
    "\n",
    "smyth_toc_url = \"http://www.perseus.tufts.edu/hopper/xmltoc?doc=Perseus%3Atext%3A1999.04.0007%3Asmythp%3D1\""
   ]
  },
  {
   "cell_type": "markdown",
   "metadata": {},
   "source": [
    "## Getting Smyth xml docs from Perseus TOC"
   ]
  },
  {
   "cell_type": "code",
   "execution_count": 3,
   "metadata": {},
   "outputs": [],
   "source": [
    "# Get all Smyth xml docs from Perseus TOC\n",
    "with urllib.request.urlopen(smyth_toc_url) as f:\n",
    "    perseus_toc_xml = f.read()\n",
    "\n",
    "root = etree.fromstring(perseus_toc_xml)"
   ]
  },
  {
   "cell_type": "code",
   "execution_count": 4,
   "metadata": {},
   "outputs": [],
   "source": [
    "# Get list of refs from <chunk> elements\n",
    "\n",
    "chapters = root.findall(\".//chunk\")\n",
    "refs = [chapter.attrib['ref'] for chapter in chapters]"
   ]
  },
  {
   "cell_type": "markdown",
   "metadata": {},
   "source": [
    "## Parse Smyth xml docs for citations"
   ]
  },
  {
   "cell_type": "code",
   "execution_count": 5,
   "metadata": {},
   "outputs": [],
   "source": [
    "# Helper functions\n",
    "\n",
    "def get_smyth_xml(ref):\n",
    "#     time.sleep(.1)\n",
    "    with urllib.request.urlopen(perseus_xml_base_url+ref) as f:\n",
    "        smyth_xml = f.read()\n",
    "    return smyth_xml\n",
    "\n",
    "def get_smyth_xmls(refs):\n",
    "    for ref in refs:\n",
    "        yield get_smyth_xml(ref)"
   ]
  },
  {
   "cell_type": "code",
   "execution_count": 6,
   "metadata": {},
   "outputs": [],
   "source": [
    "# citations = []\n",
    "\n",
    "# for i, xml in enumerate(get_smyth_xmls(refs)):\n",
    "#     root = etree.fromstring(xml)\n",
    "#     milestone = root.find('.//milestone')\n",
    "#     smyth_id = milestone.attrib['id']\n",
    "#     print(f'Processing file {i+1}... Smyth ch. {smyth_id}')\n",
    "#     bibls = root.findall('.//bibl')\n",
    "#     for bibl in bibls:\n",
    "#         cit, author_, title_, loc = None, None, None, None\n",
    "#         if 'n' in bibl.attrib.keys():\n",
    "#             cit = bibl.attrib['n']\n",
    "#         else:\n",
    "#             cit = None\n",
    "#         if bibl.find('author') is not None:\n",
    "#             author = bibl.find('author')\n",
    "#             author_ = author.text\n",
    "#         else:\n",
    "#             author = None\n",
    "#         if bibl.find('title') is not None:\n",
    "#             title = bibl.find('title')\n",
    "#             if title.xpath(\"foreign\"): # Handle Homer\n",
    "#                 author_ = \"H.\"\n",
    "#                 title_ = title.find('foreign').text\n",
    "#             else:\n",
    "#                 title_ = title.text\n",
    "#             loc = title.tail\n",
    "#         else:\n",
    "#             title = None\n",
    "#             loc = author.tail\n",
    "#         print(cit, author_, title_, loc)\n",
    "#         citations.append((smyth_id, cit, author_, title_, loc))\n",
    "       \n",
    "# pickle.dump(citations, open(\"data/smyth_citations.p\", \"wb\"))\n",
    "\n",
    "citations = pickle.load(open(\"data/smyth_citations.p\", \"rb\"))        "
   ]
  },
  {
   "cell_type": "markdown",
   "metadata": {},
   "source": [
    "## Organize citations in dataframe"
   ]
  },
  {
   "cell_type": "code",
   "execution_count": 7,
   "metadata": {},
   "outputs": [],
   "source": [
    "# # Make DataFrame from citations\n",
    "\n",
    "df = pd.DataFrame(citations, columns =['smyth-id', 'citation', 'author', 'work', 'loc']) "
   ]
  },
  {
   "cell_type": "code",
   "execution_count": 8,
   "metadata": {},
   "outputs": [],
   "source": [
    "# Helper functions for fixing Homeric citations\n",
    "\n",
    "def fix_homeric_citation(letter, cit):\n",
    "    if letter:\n",
    "        letters = [l for l in 'ΑΒΓΔΕΖΗΘΙΚΛΜΝΞΟΠΡΣΤΥΦΧΨΩ']\n",
    "        if letter.upper() in letters:\n",
    "            return f'{letters.index(letter.upper())+1}.{cit.strip()}'\n",
    "    return cit\n",
    "\n",
    "def get_homeric_work(letter):\n",
    "    if letter:\n",
    "        letters = [l for l in 'ΑΒΓΔΕΖΗΘΙΚΛΜΝΞΟΠΡΣΤΥΦΧΨΩ']\n",
    "        if letter.upper() in letters:\n",
    "            if letter.isupper():\n",
    "                return 'Il.'\n",
    "            else:\n",
    "                return 'Od.'\n",
    "    return letter"
   ]
  },
  {
   "cell_type": "code",
   "execution_count": 9,
   "metadata": {},
   "outputs": [],
   "source": [
    "# Natsort df by Smyth ids\n",
    "\n",
    "df['smyth-id'] = pd.Categorical(df['smyth-id'], ordered=True, categories= ns.natsorted(df['smyth-id'].unique()))\n",
    "df = df.sort_values('smyth-id')\n",
    "df['loc'] = df[['work', 'loc']].apply(lambda x: fix_homeric_citation(*x), axis=1)\n",
    "df['work'] = df['work'].apply(lambda x: get_homeric_work(x))"
   ]
  },
  {
   "cell_type": "code",
   "execution_count": 10,
   "metadata": {},
   "outputs": [
    {
     "data": {
      "text/html": [
       "<div>\n",
       "<style scoped>\n",
       "    .dataframe tbody tr th:only-of-type {\n",
       "        vertical-align: middle;\n",
       "    }\n",
       "\n",
       "    .dataframe tbody tr th {\n",
       "        vertical-align: top;\n",
       "    }\n",
       "\n",
       "    .dataframe thead th {\n",
       "        text-align: right;\n",
       "    }\n",
       "</style>\n",
       "<table border=\"1\" class=\"dataframe\">\n",
       "  <thead>\n",
       "    <tr style=\"text-align: right;\">\n",
       "      <th></th>\n",
       "      <th>smyth-id</th>\n",
       "      <th>citation</th>\n",
       "      <th>author</th>\n",
       "      <th>work</th>\n",
       "      <th>loc</th>\n",
       "    </tr>\n",
       "  </thead>\n",
       "  <tbody>\n",
       "    <tr>\n",
       "      <th>0</th>\n",
       "      <td>s44a.D</td>\n",
       "      <td>Hom. Il. 21.567</td>\n",
       "      <td>H.</td>\n",
       "      <td>Il.</td>\n",
       "      <td>21.567</td>\n",
       "    </tr>\n",
       "    <tr>\n",
       "      <th>1</th>\n",
       "      <td>s180</td>\n",
       "      <td>Hom. Il. 14.472</td>\n",
       "      <td>H.</td>\n",
       "      <td>Il.</td>\n",
       "      <td>14.472</td>\n",
       "    </tr>\n",
       "    <tr>\n",
       "      <th>2</th>\n",
       "      <td>s185</td>\n",
       "      <td>Thuc. 4.47</td>\n",
       "      <td>T.</td>\n",
       "      <td>None</td>\n",
       "      <td>4.47</td>\n",
       "    </tr>\n",
       "    <tr>\n",
       "      <th>3</th>\n",
       "      <td>s188</td>\n",
       "      <td>Xen. Anab. 1.2.2</td>\n",
       "      <td>X.</td>\n",
       "      <td>A.</td>\n",
       "      <td>1.2.2</td>\n",
       "    </tr>\n",
       "    <tr>\n",
       "      <th>4</th>\n",
       "      <td>s325D</td>\n",
       "      <td>Hom. Od. 4.62</td>\n",
       "      <td>H.</td>\n",
       "      <td>Od.</td>\n",
       "      <td>4.62</td>\n",
       "    </tr>\n",
       "    <tr>\n",
       "      <th>...</th>\n",
       "      <td>...</td>\n",
       "      <td>...</td>\n",
       "      <td>...</td>\n",
       "      <td>...</td>\n",
       "      <td>...</td>\n",
       "    </tr>\n",
       "    <tr>\n",
       "      <th>5187</th>\n",
       "      <td>s3045</td>\n",
       "      <td>Plat. Apol. 20e</td>\n",
       "      <td>P.</td>\n",
       "      <td>A.</td>\n",
       "      <td>20e</td>\n",
       "    </tr>\n",
       "    <tr>\n",
       "      <th>5189</th>\n",
       "      <td>s3046</td>\n",
       "      <td>Aeschin. 3.202</td>\n",
       "      <td>Aes.</td>\n",
       "      <td>None</td>\n",
       "      <td>3.202</td>\n",
       "    </tr>\n",
       "    <tr>\n",
       "      <th>5191</th>\n",
       "      <td>s3048</td>\n",
       "      <td>Soph. El. 435</td>\n",
       "      <td>S.</td>\n",
       "      <td>El.</td>\n",
       "      <td>435</td>\n",
       "    </tr>\n",
       "    <tr>\n",
       "      <th>5190</th>\n",
       "      <td>s3048</td>\n",
       "      <td>Aesch. PB 21</td>\n",
       "      <td>A.</td>\n",
       "      <td>Pr.</td>\n",
       "      <td>21</td>\n",
       "    </tr>\n",
       "    <tr>\n",
       "      <th>5192</th>\n",
       "      <td>s3048</td>\n",
       "      <td>Plat. Crito 48c</td>\n",
       "      <td>P.</td>\n",
       "      <td>Cr.</td>\n",
       "      <td>48c</td>\n",
       "    </tr>\n",
       "  </tbody>\n",
       "</table>\n",
       "<p>5193 rows × 5 columns</p>\n",
       "</div>"
      ],
      "text/plain": [
       "     smyth-id          citation author  work     loc\n",
       "0      s44a.D   Hom. Il. 21.567     H.   Il.  21.567\n",
       "1        s180   Hom. Il. 14.472     H.   Il.  14.472\n",
       "2        s185        Thuc. 4.47     T.  None    4.47\n",
       "3        s188  Xen. Anab. 1.2.2     X.    A.   1.2.2\n",
       "4       s325D     Hom. Od. 4.62     H.   Od.    4.62\n",
       "...       ...               ...    ...   ...     ...\n",
       "5187    s3045   Plat. Apol. 20e     P.    A.     20e\n",
       "5189    s3046    Aeschin. 3.202   Aes.  None   3.202\n",
       "5191    s3048     Soph. El. 435     S.   El.     435\n",
       "5190    s3048      Aesch. PB 21     A.   Pr.      21\n",
       "5192    s3048   Plat. Crito 48c     P.   Cr.     48c\n",
       "\n",
       "[5193 rows x 5 columns]"
      ]
     },
     "execution_count": 10,
     "metadata": {},
     "output_type": "execute_result"
    }
   ],
   "source": [
    "df"
   ]
  },
  {
   "cell_type": "code",
   "execution_count": 11,
   "metadata": {},
   "outputs": [
    {
     "data": {
      "text/html": [
       "<div>\n",
       "<style scoped>\n",
       "    .dataframe tbody tr th:only-of-type {\n",
       "        vertical-align: middle;\n",
       "    }\n",
       "\n",
       "    .dataframe tbody tr th {\n",
       "        vertical-align: top;\n",
       "    }\n",
       "\n",
       "    .dataframe thead th {\n",
       "        text-align: right;\n",
       "    }\n",
       "</style>\n",
       "<table border=\"1\" class=\"dataframe\">\n",
       "  <thead>\n",
       "    <tr style=\"text-align: right;\">\n",
       "      <th></th>\n",
       "      <th>smyth-id</th>\n",
       "      <th>citation</th>\n",
       "      <th>author</th>\n",
       "      <th>work</th>\n",
       "      <th>loc</th>\n",
       "    </tr>\n",
       "  </thead>\n",
       "  <tbody>\n",
       "    <tr>\n",
       "      <th>0</th>\n",
       "      <td>s2329</td>\n",
       "      <td>Aesch. Ag. 37</td>\n",
       "      <td>A.</td>\n",
       "      <td>Ag.</td>\n",
       "      <td>37</td>\n",
       "    </tr>\n",
       "    <tr>\n",
       "      <th>1</th>\n",
       "      <td>s1882</td>\n",
       "      <td>Aesch. Ag. 126</td>\n",
       "      <td>A.</td>\n",
       "      <td>Ag.</td>\n",
       "      <td>126</td>\n",
       "    </tr>\n",
       "    <tr>\n",
       "      <th>2</th>\n",
       "      <td>s2104</td>\n",
       "      <td>Aesch. Ag. 161</td>\n",
       "      <td>A.</td>\n",
       "      <td>Ag.</td>\n",
       "      <td>161</td>\n",
       "    </tr>\n",
       "    <tr>\n",
       "      <th>3</th>\n",
       "      <td>s2328</td>\n",
       "      <td>Aesch. Ag. 208</td>\n",
       "      <td>A.</td>\n",
       "      <td>Ag.</td>\n",
       "      <td>208</td>\n",
       "    </tr>\n",
       "    <tr>\n",
       "      <th>4</th>\n",
       "      <td>s2033</td>\n",
       "      <td>Aesch. Ag. 252</td>\n",
       "      <td>A.</td>\n",
       "      <td>Ag.</td>\n",
       "      <td>252</td>\n",
       "    </tr>\n",
       "    <tr>\n",
       "      <th>...</th>\n",
       "      <td>...</td>\n",
       "      <td>...</td>\n",
       "      <td>...</td>\n",
       "      <td>...</td>\n",
       "      <td>...</td>\n",
       "    </tr>\n",
       "    <tr>\n",
       "      <th>5188</th>\n",
       "      <td>s1473</td>\n",
       "      <td>None</td>\n",
       "      <td>None</td>\n",
       "      <td>C.I.A.</td>\n",
       "      <td>/lref&gt;</td>\n",
       "    </tr>\n",
       "    <tr>\n",
       "      <th>5189</th>\n",
       "      <td>s1488</td>\n",
       "      <td>None</td>\n",
       "      <td>None</td>\n",
       "      <td>C.I.A.</td>\n",
       "      <td>/lref&gt;</td>\n",
       "    </tr>\n",
       "    <tr>\n",
       "      <th>5190</th>\n",
       "      <td>s1527</td>\n",
       "      <td>None</td>\n",
       "      <td>None</td>\n",
       "      <td>C.I.A.</td>\n",
       "      <td>/lref&gt;</td>\n",
       "    </tr>\n",
       "    <tr>\n",
       "      <th>5191</th>\n",
       "      <td>s1923</td>\n",
       "      <td>None</td>\n",
       "      <td>None</td>\n",
       "      <td>C.I.A.</td>\n",
       "      <td>/lref&gt;</td>\n",
       "    </tr>\n",
       "    <tr>\n",
       "      <th>5192</th>\n",
       "      <td>s1923</td>\n",
       "      <td>None</td>\n",
       "      <td>None</td>\n",
       "      <td>I.G.A.</td>\n",
       "      <td>/lref&gt;</td>\n",
       "    </tr>\n",
       "  </tbody>\n",
       "</table>\n",
       "<p>5193 rows × 5 columns</p>\n",
       "</div>"
      ],
      "text/plain": [
       "     smyth-id        citation author    work      loc\n",
       "0       s2329   Aesch. Ag. 37     A.     Ag.       37\n",
       "1       s1882  Aesch. Ag. 126     A.     Ag.      126\n",
       "2       s2104  Aesch. Ag. 161     A.     Ag.      161\n",
       "3       s2328  Aesch. Ag. 208     A.     Ag.      208\n",
       "4       s2033  Aesch. Ag. 252     A.     Ag.      252\n",
       "...       ...             ...    ...     ...      ...\n",
       "5188    s1473            None   None  C.I.A.   /lref>\n",
       "5189    s1488            None   None  C.I.A.   /lref>\n",
       "5190    s1527            None   None  C.I.A.   /lref>\n",
       "5191    s1923            None   None  C.I.A.   /lref>\n",
       "5192    s1923            None   None  I.G.A.   /lref>\n",
       "\n",
       "[5193 rows x 5 columns]"
      ]
     },
     "execution_count": 11,
     "metadata": {},
     "output_type": "execute_result"
    }
   ],
   "source": [
    "df_auth = df\n",
    "df_auth['loc'] = pd.Categorical(df_auth['loc'], ordered=True, categories= ns.natsorted(df_auth['loc'].unique()))\n",
    "df_auth = df_auth.sort_values(['author', 'work', 'loc'])\n",
    "df_auth = df_auth.reset_index(drop=True)\n",
    "df_auth"
   ]
  },
  {
   "cell_type": "markdown",
   "metadata": {},
   "source": [
    "## Export DataFrames to csv"
   ]
  },
  {
   "cell_type": "code",
   "execution_count": 12,
   "metadata": {},
   "outputs": [],
   "source": [
    "df.to_csv('data/smyth_citations.csv', index=False)\n",
    "df_auth.to_csv('data/smyth_citations_by_author.csv', index=False)"
   ]
  },
  {
   "cell_type": "markdown",
   "metadata": {},
   "source": [
    "## Get Stats on Perseus-Smyth citations"
   ]
  },
  {
   "cell_type": "code",
   "execution_count": 13,
   "metadata": {},
   "outputs": [
    {
     "name": "stdout",
     "output_type": "stream",
     "text": [
      "Perseus-Smyth stats\n",
      "--------------------\n",
      "Total citations: 5193\n",
      "Unique authors: 21\n",
      "Unique works: 99\n",
      "Most frequent author: X.\n",
      "Most frequent work: X. A.\n"
     ]
    }
   ],
   "source": [
    "total_citations = len(df['smyth-id'])\n",
    "unique_authors = len(set(df['author']))\n",
    "unique_works = len(set([''.join(filter(None, (item[0], item[1]))) \n",
    "                        for item in zip(df['author'],df['work'])]))\n",
    "freq_author = df['author'].value_counts().keys()[0]\n",
    "freq_work = \" \".join(df.groupby(['author','work']).size().idxmax())\n",
    "\n",
    "print(f'Perseus-Smyth stats')\n",
    "print(f'-'*20)\n",
    "print(f'Total citations: {total_citations}')\n",
    "print(f'Unique authors: {unique_authors}')\n",
    "print(f'Unique works: {unique_works}')\n",
    "print(f'Most frequent author: {freq_author}')\n",
    "print(f'Most frequent work: {freq_work}')"
   ]
  },
  {
   "cell_type": "code",
   "execution_count": 14,
   "metadata": {},
   "outputs": [
    {
     "name": "stdout",
     "output_type": "stream",
     "text": [
      "Perseus-Smyth top authors\n",
      "--------------------\n",
      "X. (1532)\n",
      "P. (881)\n",
      "T. (698)\n",
      "D. (542)\n",
      "S. (312)\n",
      "H. (223)\n",
      "L. (179)\n",
      "E. (164)\n",
      "I. (130)\n",
      "Ar. (127)\n"
     ]
    }
   ],
   "source": [
    "print(f'Perseus-Smyth top authors')\n",
    "print(f'-'*20)\n",
    "for item in list(df['author'].value_counts().items())[:10]:\n",
    "    print(f'{item[0]} ({item[1]})')"
   ]
  },
  {
   "cell_type": "code",
   "execution_count": 15,
   "metadata": {},
   "outputs": [
    {
     "name": "stdout",
     "output_type": "stream",
     "text": [
      "Perseus-Smyth top works\n",
      "--------------------\n",
      "X., A. (701)\n",
      "T. (698)\n",
      "D. (542)\n",
      "X., C. (399)\n",
      "L. (179)\n",
      "X., H. (178)\n",
      "P., A. (165)\n",
      "P., R. (150)\n",
      "X., M. (138)\n",
      "H., Od. (136)\n"
     ]
    }
   ],
   "source": [
    "print(f'Perseus-Smyth top works')\n",
    "print(f'-'*20)\n",
    "df['work_'] = df['work'].astype(str)\n",
    "for item in list(df.groupby(['author','work_']).size().nlargest(10).items()):\n",
    "    if item[0][1] == 'None':\n",
    "        print(f'{item[0][0]} ({item[1]})')\n",
    "    else:\n",
    "        print(f'{item[0][0]}, {item[0][1]} ({item[1]})')"
   ]
  }
 ],
 "metadata": {
  "kernelspec": {
   "display_name": "Python 3",
   "language": "python",
   "name": "python3"
  },
  "language_info": {
   "codemirror_mode": {
    "name": "ipython",
    "version": 3
   },
   "file_extension": ".py",
   "mimetype": "text/x-python",
   "name": "python",
   "nbconvert_exporter": "python",
   "pygments_lexer": "ipython3",
   "version": "3.7.3"
  }
 },
 "nbformat": 4,
 "nbformat_minor": 2
}
