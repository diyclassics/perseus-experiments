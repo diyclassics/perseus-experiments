{
 "cells": [
  {
   "cell_type": "markdown",
   "metadata": {},
   "source": [
    "# Making an *index locorum* from the Perseus edition of Smyth\n",
    "\n",
    "Patrick J. Burns 1.10.20"
   ]
  },
  {
   "cell_type": "markdown",
   "metadata": {},
   "source": [
    "Here is an xml parsing project that came out of a discussion on the 'gltreebank' listserv. There was a request for \"an Index Locorum to Smyth's 'Greek Grammar'\" and one was identified quickly—W.A. Schumann's 1961 \"Index of passages cited in Herbert Weir Smyth, Greek grammar.\" (GRBS Scholarly Aids 1). [Here](https://catalog.hathitrust.org/Record/001811341) is a link to the item—with full text—in HathiTrust. I often use the Perseus Digital Library edition of [Smyth](http://www.perseus.tufts.edu/hopper/text?doc=Perseus%3Atext%3A1999.04.0007%3Asmythp%3D1) and remembered that citations in this text are linked to their Perseus sources. With this is mind, I decided to recompile something like Schumann's index by parsing the Perseus xml. The code is in the notebook below and a csv with results can be found [here](https://github.com/diyclassics/perseus-experiments/blob/master/data/smyth_citations.csv).\n",
    "\n",
    "The workflow is as follows: 1. compile a list of Smyth xml docs from the Perseus TOC (provided in the left column of the Smyth html); 2. parse the docs in the TOC for ```<bibl>``` elements, i.e. the element used for the ciations, and add them to a dictionary where the Smyth chapter is the key, e.g. ```{'s910': 'Lys. 13.10'}```; 3. put this data into more user-friendly formats, e.g. Pandas DataFrame and .csv. The result is compilation of passages per Smyth chapter. Schumann's index is actually Smyth chapters per author/work citation; this could be done (and I probably will do it soon) easily enough by changing the parsing script to extract the ```<author>``` and ```<title>``` elements in addition to ```<bibl>```. But for now, we have a searchable version of Schumann, built up from the Perseus data."
   ]
  },
  {
   "cell_type": "code",
   "execution_count": 1,
   "metadata": {},
   "outputs": [],
   "source": [
    "# Imports\n",
    "import urllib.request\n",
    "from lxml import etree\n",
    "\n",
    "from collections import defaultdict\n",
    "import natsort as ns\n",
    "\n",
    "import pandas as pd\n",
    "\n",
    "import time\n",
    "\n",
    "import pickle\n",
    "from pprint import pprint"
   ]
  },
  {
   "cell_type": "code",
   "execution_count": 2,
   "metadata": {},
   "outputs": [],
   "source": [
    "# Constants\n",
    "perseus_xml_base_url = \"http://www.perseus.tufts.edu/hopper/xmlchunk?doc=\"\n",
    "\n",
    "smyth_toc_url = \"http://www.perseus.tufts.edu/hopper/xmltoc?doc=Perseus%3Atext%3A1999.04.0007%3Asmythp%3D1\""
   ]
  },
  {
   "cell_type": "markdown",
   "metadata": {},
   "source": [
    "## Getting Smyth xml docs from Perseus TOC"
   ]
  },
  {
   "cell_type": "code",
   "execution_count": 3,
   "metadata": {},
   "outputs": [],
   "source": [
    "# Get all Smyth xml docs from Perseus TOC\n",
    "with urllib.request.urlopen(smyth_toc_url) as f:\n",
    "    perseus_toc_xml = f.read()\n",
    "\n",
    "root = etree.fromstring(perseus_toc_xml)"
   ]
  },
  {
   "cell_type": "code",
   "execution_count": 4,
   "metadata": {},
   "outputs": [],
   "source": [
    "# Get list of refs from <chunk> elements\n",
    "\n",
    "chapters = root.findall(\".//chunk\")\n",
    "refs = [chapter.attrib['ref'] for chapter in chapters]"
   ]
  },
  {
   "cell_type": "markdown",
   "metadata": {},
   "source": [
    "## Parse Smyth xml docs for citations"
   ]
  },
  {
   "cell_type": "code",
   "execution_count": 5,
   "metadata": {},
   "outputs": [],
   "source": [
    "# Helper functions\n",
    "\n",
    "def get_smyth_xml(ref):\n",
    "#     time.sleep(.1)\n",
    "    with urllib.request.urlopen(perseus_xml_base_url+ref) as f:\n",
    "        smyth_xml = f.read()\n",
    "    return smyth_xml\n",
    "\n",
    "def get_smyth_xmls(refs):\n",
    "    for ref in refs:\n",
    "        yield get_smyth_xml(ref)"
   ]
  },
  {
   "cell_type": "code",
   "execution_count": 6,
   "metadata": {},
   "outputs": [],
   "source": [
    "## Pickled to prevent server calls\n",
    "\n",
    "# citations = defaultdict(list)\n",
    "\n",
    "# for i, xml in enumerate(get_smyth_xmls(refs)):\n",
    "#     root = etree.fromstring(xml)\n",
    "#     milestone = root.find(\".//milestone\")\n",
    "#     smyth_id = milestone.attrib['id']\n",
    "#     print(f'Processing file {i+1}... Smyth ch. {smyth_id}')  \n",
    "#     bibls = []\n",
    "#     bibls_ = root.findall('.//bibl')\n",
    "#     for bibl in bibls_:\n",
    "#         if 'n' in bibl.attrib.keys(): # Add check for elements like Smyth 904\n",
    "#             bibls.append(bibl.attrib['n'])\n",
    "# #     bibls = [bibl.attrib['n'] for bibl in root.findall('.//bibl')]\n",
    "#     if bibls:\n",
    "#         citations[smyth_id] = bibls\n",
    "# pickle.dump(citations, open(\"smyth-citations.p\", \"wb\"))\n",
    "\n",
    "citations = pickle.load(open(\"data/smyth_citations.p\", \"rb\"))"
   ]
  },
  {
   "cell_type": "markdown",
   "metadata": {},
   "source": [
    "## Organize citations in dataframe"
   ]
  },
  {
   "cell_type": "code",
   "execution_count": 7,
   "metadata": {},
   "outputs": [],
   "source": [
    "# Put citations in first normal form; make dataframe\n",
    "# cf. https://stackoverflow.com/a/54368505/1816347\n",
    "\n",
    "df = pd.DataFrame.from_dict(citations, orient='index').stack().reset_index().drop('level_1', axis=1).rename(columns={'level_0': 'smyth-id', 0: 'citation'})"
   ]
  },
  {
   "cell_type": "code",
   "execution_count": 8,
   "metadata": {},
   "outputs": [],
   "source": [
    "# Natsort df by Smyth ids\n",
    "\n",
    "df['smyth-id'] = pd.Categorical(df['smyth-id'], ordered=True, categories= ns.natsorted(df['smyth-id'].unique()))\n",
    "df = df.sort_values('smyth-id')"
   ]
  },
  {
   "cell_type": "code",
   "execution_count": 9,
   "metadata": {},
   "outputs": [
    {
     "data": {
      "text/html": [
       "<div>\n",
       "<style scoped>\n",
       "    .dataframe tbody tr th:only-of-type {\n",
       "        vertical-align: middle;\n",
       "    }\n",
       "\n",
       "    .dataframe tbody tr th {\n",
       "        vertical-align: top;\n",
       "    }\n",
       "\n",
       "    .dataframe thead th {\n",
       "        text-align: right;\n",
       "    }\n",
       "</style>\n",
       "<table border=\"1\" class=\"dataframe\">\n",
       "  <thead>\n",
       "    <tr style=\"text-align: right;\">\n",
       "      <th></th>\n",
       "      <th>smyth-id</th>\n",
       "      <th>citation</th>\n",
       "    </tr>\n",
       "  </thead>\n",
       "  <tbody>\n",
       "    <tr>\n",
       "      <th>0</th>\n",
       "      <td>s44a.D</td>\n",
       "      <td>Hom. Il. 21.567</td>\n",
       "    </tr>\n",
       "    <tr>\n",
       "      <th>1</th>\n",
       "      <td>s180</td>\n",
       "      <td>Hom. Il. 14.472</td>\n",
       "    </tr>\n",
       "    <tr>\n",
       "      <th>2</th>\n",
       "      <td>s185</td>\n",
       "      <td>Thuc. 4.47</td>\n",
       "    </tr>\n",
       "    <tr>\n",
       "      <th>3</th>\n",
       "      <td>s188</td>\n",
       "      <td>Xen. Anab. 1.2.2</td>\n",
       "    </tr>\n",
       "    <tr>\n",
       "      <th>4</th>\n",
       "      <td>s325D</td>\n",
       "      <td>Hom. Od. 4.62</td>\n",
       "    </tr>\n",
       "    <tr>\n",
       "      <th>...</th>\n",
       "      <td>...</td>\n",
       "      <td>...</td>\n",
       "    </tr>\n",
       "    <tr>\n",
       "      <th>5156</th>\n",
       "      <td>s3045</td>\n",
       "      <td>Plat. Apol. 20e</td>\n",
       "    </tr>\n",
       "    <tr>\n",
       "      <th>5158</th>\n",
       "      <td>s3046</td>\n",
       "      <td>Aeschin. 3.202</td>\n",
       "    </tr>\n",
       "    <tr>\n",
       "      <th>5160</th>\n",
       "      <td>s3048</td>\n",
       "      <td>Soph. El. 435</td>\n",
       "    </tr>\n",
       "    <tr>\n",
       "      <th>5159</th>\n",
       "      <td>s3048</td>\n",
       "      <td>Aesch. PB 21</td>\n",
       "    </tr>\n",
       "    <tr>\n",
       "      <th>5161</th>\n",
       "      <td>s3048</td>\n",
       "      <td>Plat. Crito 48c</td>\n",
       "    </tr>\n",
       "  </tbody>\n",
       "</table>\n",
       "<p>5162 rows × 2 columns</p>\n",
       "</div>"
      ],
      "text/plain": [
       "     smyth-id          citation\n",
       "0      s44a.D   Hom. Il. 21.567\n",
       "1        s180   Hom. Il. 14.472\n",
       "2        s185        Thuc. 4.47\n",
       "3        s188  Xen. Anab. 1.2.2\n",
       "4       s325D     Hom. Od. 4.62\n",
       "...       ...               ...\n",
       "5156    s3045   Plat. Apol. 20e\n",
       "5158    s3046    Aeschin. 3.202\n",
       "5160    s3048     Soph. El. 435\n",
       "5159    s3048      Aesch. PB 21\n",
       "5161    s3048   Plat. Crito 48c\n",
       "\n",
       "[5162 rows x 2 columns]"
      ]
     },
     "execution_count": 9,
     "metadata": {},
     "output_type": "execute_result"
    }
   ],
   "source": [
    "df"
   ]
  },
  {
   "cell_type": "markdown",
   "metadata": {},
   "source": [
    "## Export df to csv"
   ]
  },
  {
   "cell_type": "code",
   "execution_count": 10,
   "metadata": {},
   "outputs": [],
   "source": [
    "df.to_csv('data/smyth_citations.csv', index=False)"
   ]
  }
 ],
 "metadata": {
  "kernelspec": {
   "display_name": "Python 3",
   "language": "python",
   "name": "python3"
  },
  "language_info": {
   "codemirror_mode": {
    "name": "ipython",
    "version": 3
   },
   "file_extension": ".py",
   "mimetype": "text/x-python",
   "name": "python",
   "nbconvert_exporter": "python",
   "pygments_lexer": "ipython3",
   "version": "3.7.3"
  }
 },
 "nbformat": 4,
 "nbformat_minor": 2
}
