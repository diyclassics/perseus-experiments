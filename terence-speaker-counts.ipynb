{
 "cells": [
  {
   "cell_type": "code",
   "execution_count": 1,
   "metadata": {},
   "outputs": [],
   "source": [
    "# Imports\n",
    "\n",
    "import os\n",
    "\n",
    "from collections import defaultdict, Counter\n",
    "\n",
    "import urllib.request\n",
    "import urllib.parse\n",
    "\n",
    "import lxml.html\n",
    "from lxml import etree\n",
    "\n",
    "from tqdm import tqdm\n",
    "\n",
    "from pprint import pprint"
   ]
  },
  {
   "cell_type": "code",
   "execution_count": 2,
   "metadata": {},
   "outputs": [],
   "source": [
    "# URIs for Perseus texts of Terence\n",
    "\n",
    "uris = [\n",
    "    'https://raw.githubusercontent.com/PerseusDL/canonical-latinLit/master/data/phi0134/phi001/phi0134.phi001.perseus-lat2.xml',\n",
    "    'https://raw.githubusercontent.com/PerseusDL/canonical-latinLit/master/data/phi0134/phi002/phi0134.phi002.perseus-lat2.xml',\n",
    "    'https://raw.githubusercontent.com/PerseusDL/canonical-latinLit/master/data/phi0134/phi003/phi0134.phi003.perseus-lat2.xml',\n",
    "    'https://raw.githubusercontent.com/PerseusDL/canonical-latinLit/master/data/phi0134/phi004/phi0134.phi004.perseus-lat2.xml',\n",
    "    'https://raw.githubusercontent.com/PerseusDL/canonical-latinLit/master/data/phi0134/phi005/phi0134.phi005.perseus-lat2.xml',\n",
    "    'https://raw.githubusercontent.com/PerseusDL/canonical-latinLit/master/data/phi0134/phi006/phi0134.phi006.perseus-lat2.xml',    \n",
    "]"
   ]
  },
  {
   "cell_type": "code",
   "execution_count": 3,
   "metadata": {},
   "outputs": [],
   "source": [
    "# Get texts\n",
    "#\n",
    "# Commented out—only need to do once\n",
    "\n",
    "# for uri in tqdm(uris):\n",
    "#     ns = {'tei': 'http://www.tei-c.org/ns/1.0'}\n",
    "#     connection = urllib.request.urlopen(uri)\n",
    "#     tree = etree.parse(connection)\n",
    "#     root = tree.getroot()\n",
    "#     xml_string = etree.tostring(root, pretty_print=True).decode()\n",
    "#     name = root.xpath('.//tei:title', namespaces=ns)[0].text\n",
    "#     with open(f'texts/{name.lower()}.xml', 'w') as f:\n",
    "#          f.write(xml_string)"
   ]
  },
  {
   "cell_type": "code",
   "execution_count": 4,
   "metadata": {},
   "outputs": [],
   "source": [
    "def get_speaker_data(file):\n",
    "    def get_text(node):\n",
    "        return ' '.join(node.itertext()).strip()\n",
    "    ns = {'tei': 'http://www.tei-c.org/ns/1.0'}\n",
    "    tree = etree.parse(file)\n",
    "    root = tree.getroot()\n",
    "    speaker_nodes = root.xpath('.//tei:sp', namespaces=ns)\n",
    "    speaker_blocks = defaultdict(list)\n",
    "    for node in speaker_nodes:\n",
    "        speaker = node.xpath('tei:speaker', namespaces=ns)[0].text\n",
    "        lines = node.xpath('tei:l', namespaces=ns)\n",
    "        for line in lines:\n",
    "            speaker_blocks[speaker].append(line.text.strip())\n",
    "    return speaker_blocks"
   ]
  },
  {
   "cell_type": "code",
   "execution_count": 5,
   "metadata": {},
   "outputs": [],
   "source": [
    "# Get Andria data\n",
    "\n",
    "andria = get_speaker_data('texts/andria.xml')"
   ]
  },
  {
   "cell_type": "code",
   "execution_count": 6,
   "metadata": {},
   "outputs": [
    {
     "data": {
      "text/plain": [
       "dict_keys(['Prologus', 'Si.', 'So.', 'Da.', 'Pa.', 'My.', 'Ch.', 'By.', 'Le.', 'Gl.', 'Cr.', 'Dr.', 'Om.'])"
      ]
     },
     "execution_count": 6,
     "metadata": {},
     "output_type": "execute_result"
    }
   ],
   "source": [
    "# Dramatis Personae as told through defaultdict keys\n",
    "andria.keys()"
   ]
  },
  {
   "cell_type": "code",
   "execution_count": 7,
   "metadata": {},
   "outputs": [
    {
     "name": "stdout",
     "output_type": "stream",
     "text": [
      "['Mirabar hoc si sic abiret, et heri semper lenitas',\n",
      " 'Verebar quorsum evaderet:',\n",
      " 'Qui postquam audierat non datum iri filio uxorem suo',\n",
      " 'Numquam cuiquam nostrum verbum fecit, neque id aegre tulit.',\n",
      " 'Id voluit, nos sic nec opinantes duci falso gaudio,',\n",
      " 'Sperantes, iam amoto metu, interea oscitantes opprimi,',\n",
      " 'Ut ne esset spatium cogitandi ad disturbandas nuptias:',\n",
      " 'Astute.',\n",
      " 'Herus est, neque provideram.',\n",
      " 'Hem, quid est?']\n"
     ]
    }
   ],
   "source": [
    "# First 10 lines for speaker Da. (= Davus)\n",
    "\n",
    "pprint(andria['Da.'][:10])"
   ]
  },
  {
   "cell_type": "code",
   "execution_count": 8,
   "metadata": {},
   "outputs": [
    {
     "name": "stdout",
     "output_type": "stream",
     "text": [
      "Prologus: 27\n",
      "Si.: 394\n",
      "So.: 36\n",
      "Da.: 341\n",
      "Pa.: 239\n",
      "My.: 88\n",
      "Ch.: 200\n",
      "By.: 30\n",
      "Le.: 10\n",
      "Gl.: 1\n",
      "Cr.: 51\n",
      "Dr.: 2\n",
      "Om.: 1\n"
     ]
    }
   ],
   "source": [
    "# Line counts for Andria speakers; nb: includes partial lines\n",
    "\n",
    "for k, v in andria.items():\n",
    "    print(f'{k}: {len(v)}')"
   ]
  },
  {
   "cell_type": "code",
   "execution_count": 9,
   "metadata": {},
   "outputs": [
    {
     "name": "stdout",
     "output_type": "stream",
     "text": [
      "Prologus: 1110\n",
      "Si.: 13850\n",
      "So.: 950\n",
      "Da.: 11059\n",
      "Pa.: 8244\n",
      "My.: 2436\n",
      "Ch.: 6372\n",
      "By.: 996\n",
      "Le.: 411\n",
      "Gl.: 42\n",
      "Cr.: 1716\n",
      "Dr.: 14\n",
      "Om.: 9\n"
     ]
    }
   ],
   "source": [
    "# Word counts for Andria speakers\n",
    "\n",
    "for k, v in andria.items():\n",
    "    running = 0\n",
    "    for line in v:\n",
    "        running += len(line)\n",
    "    print(f'{k}: {running}')"
   ]
  }
 ],
 "metadata": {
  "kernelspec": {
   "display_name": "Python 3",
   "language": "python",
   "name": "python3"
  },
  "language_info": {
   "codemirror_mode": {
    "name": "ipython",
    "version": 3
   },
   "file_extension": ".py",
   "mimetype": "text/x-python",
   "name": "python",
   "nbconvert_exporter": "python",
   "pygments_lexer": "ipython3",
   "version": "3.7.2"
  }
 },
 "nbformat": 4,
 "nbformat_minor": 2
}
